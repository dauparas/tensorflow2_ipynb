{
  "nbformat": 4,
  "nbformat_minor": 0,
  "metadata": {
    "colab": {
      "name": "linear_regression.ipynb",
      "provenance": [],
      "collapsed_sections": [],
      "include_colab_link": true
    },
    "kernelspec": {
      "name": "python3",
      "display_name": "Python 3"
    }
  },
  "cells": [
    {
      "cell_type": "markdown",
      "metadata": {
        "id": "view-in-github",
        "colab_type": "text"
      },
      "source": [
        "<a href=\"https://colab.research.google.com/github/dauparas/tensorflow2_ipynb/blob/master/linear_regression.ipynb\" target=\"_parent\"><img src=\"https://colab.research.google.com/assets/colab-badge.svg\" alt=\"Open In Colab\"/></a>"
      ]
    },
    {
      "cell_type": "code",
      "metadata": {
        "id": "V2KDjtjXVfPU",
        "colab_type": "code",
        "outputId": "1d05ecbd-1b9e-4736-84a2-a94c6a3ff017",
        "colab": {
          "base_uri": "https://localhost:8080/",
          "height": 51
        }
      },
      "source": [
        "#@title Import dependencies { display-mode: \"form\" }\n",
        "\n",
        "from __future__ import absolute_import, division, print_function, unicode_literals\n",
        "\n",
        "# Install TensorFlow\n",
        "try:\n",
        "  # %tensorflow_version only exists in Colab.\n",
        "  %tensorflow_version 2.x\n",
        "except Exception:\n",
        "  pass\n",
        "\n",
        "import tensorflow as tf\n",
        "\n",
        "from __future__ import absolute_import\n",
        "from __future__ import division\n",
        "from __future__ import print_function\n",
        "\n",
        "import numpy as np\n",
        "\n",
        "import tensorflow as tf\n",
        "from tensorflow.python import tf2\n",
        "if not tf2.enabled():\n",
        "  import tensorflow.compat.v2 as tf\n",
        "  tf.enable_v2_behavior()\n",
        "  assert tf2.enabled()\n",
        "\n",
        "import tensorflow_datasets as tfds\n",
        "import tensorflow_probability as tfp\n",
        "\n",
        "tfk = tf.keras\n",
        "tfkl = tf.keras.layers\n",
        "tfpl = tfp.layers\n",
        "tfd = tfp.distributions\n",
        "from keras.layers import Input, Embedding, LSTM, Dense\n",
        "\n",
        "import pandas as pd\n",
        "import numpy as np\n",
        "import matplotlib.pyplot as plt\n",
        "import seaborn as sns\n",
        "import time\n",
        "from sklearn.cluster import KMeans\n",
        "from sklearn.datasets import make_blobs\n",
        "import seaborn as sns; sns.set()\n",
        "import keras.backend as K\n",
        "import random\n",
        "\n",
        "%matplotlib inline\n",
        "plt.style.use('dark_background')"
      ],
      "execution_count": 1,
      "outputs": [
        {
          "output_type": "stream",
          "text": [
            "TensorFlow 2.x selected.\n"
          ],
          "name": "stdout"
        },
        {
          "output_type": "stream",
          "text": [
            "Using TensorFlow backend.\n"
          ],
          "name": "stderr"
        }
      ]
    },
    {
      "cell_type": "markdown",
      "metadata": {
        "id": "qDkhys3oVk9i",
        "colab_type": "text"
      },
      "source": [
        "# Create data"
      ]
    },
    {
      "cell_type": "code",
      "metadata": {
        "id": "ZmgE21jdVbRW",
        "colab_type": "code",
        "colab": {}
      },
      "source": [
        "sigma=0.1 #noise level\n",
        "X = np.random.uniform(low=0.0, high=1.0, size=1000)[:,np.newaxis]\n",
        "Y = np.sin(np.pi/2*X)+sigma*np.random.normal(loc=0.0, scale=1.0, size=X.shape)\n",
        "\n",
        "X = X.astype(np.float32)\n",
        "Y = Y.astype(np.float32)"
      ],
      "execution_count": 0,
      "outputs": []
    },
    {
      "cell_type": "code",
      "metadata": {
        "id": "RQN-NPOCWeqs",
        "colab_type": "code",
        "outputId": "91693869-e7c0-4cf5-d85f-a53f2e1d4748",
        "colab": {
          "base_uri": "https://localhost:8080/",
          "height": 34
        }
      },
      "source": [
        "print(X.shape, Y.shape)"
      ],
      "execution_count": 3,
      "outputs": [
        {
          "output_type": "stream",
          "text": [
            "(1000, 1) (1000, 1)\n"
          ],
          "name": "stdout"
        }
      ]
    },
    {
      "cell_type": "code",
      "metadata": {
        "id": "j-LMtT11V0yI",
        "colab_type": "code",
        "outputId": "f153d914-ffee-4fbe-c728-9ed13e879021",
        "colab": {
          "base_uri": "https://localhost:8080/",
          "height": 268
        }
      },
      "source": [
        "plt.scatter(X,Y);"
      ],
      "execution_count": 4,
      "outputs": [
        {
          "output_type": "display_data",
          "data": {
            "image/png": "[encoded data removed]",
            "text/plain": [
              "<Figure size 432x288 with 1 Axes>"
            ]
          },
          "metadata": {
            "tags": []
          }
        }
      ]
    },
    {
      "cell_type": "markdown",
      "metadata": {
        "id": "l_oU6cdcWms6",
        "colab_type": "text"
      },
      "source": [
        "# Create tf.dataset"
      ]
    },
    {
      "cell_type": "code",
      "metadata": {
        "id": "sgzqi1yIV2R-",
        "colab_type": "code",
        "colab": {}
      },
      "source": [
        "batch_size = 32\n",
        "train_dataset = (X, Y) #need float32 for TF2\n",
        "train_dataset = tf.data.Dataset.from_tensor_slices(train_dataset)\n",
        "train_dataset = train_dataset.shuffle(buffer_size=10000)\n",
        "train_dataset = train_dataset.batch(batch_size)"
      ],
      "execution_count": 0,
      "outputs": []
    },
    {
      "cell_type": "code",
      "metadata": {
        "id": "CqO-3G1XW0nI",
        "colab_type": "code",
        "outputId": "4568758c-5c45-45d7-a22c-cc4d924c4067",
        "colab": {
          "base_uri": "https://localhost:8080/",
          "height": 34
        }
      },
      "source": [
        "print(train_dataset)"
      ],
      "execution_count": 6,
      "outputs": [
        {
          "output_type": "stream",
          "text": [
            "<BatchDataset shapes: ((None, 1), (None, 1)), types: (tf.float32, tf.float32)>\n"
          ],
          "name": "stdout"
        }
      ]
    },
    {
      "cell_type": "markdown",
      "metadata": {
        "id": "JeYwMM2_XNUg",
        "colab_type": "text"
      },
      "source": [
        "# Define your model"
      ]
    },
    {
      "cell_type": "code",
      "metadata": {
        "id": "mm7uy009W2yP",
        "colab_type": "code",
        "colab": {}
      },
      "source": [
        "def make_model(input_shape, output_shape):\n",
        "    model = tfk.Sequential([\n",
        "    tfkl.InputLayer(input_shape=[input_shape]),\n",
        "    tfkl.Dense(output_shape, activation=None),\n",
        "    ])\n",
        "    return model "
      ],
      "execution_count": 0,
      "outputs": []
    },
    {
      "cell_type": "code",
      "metadata": {
        "id": "acIpJf85XYJ6",
        "colab_type": "code",
        "colab": {}
      },
      "source": [
        "y_model = make_model(X.shape[1], Y.shape[1])"
      ],
      "execution_count": 0,
      "outputs": []
    },
    {
      "cell_type": "code",
      "metadata": {
        "id": "LcLvD5JMazqP",
        "colab_type": "code",
        "outputId": "898b7350-bc04-4bac-a658-6e11803be1b8",
        "colab": {
          "base_uri": "https://localhost:8080/",
          "height": 34
        }
      },
      "source": [
        "y_model"
      ],
      "execution_count": 9,
      "outputs": [
        {
          "output_type": "execute_result",
          "data": {
            "text/plain": [
              "<tensorflow.python.keras.engine.sequential.Sequential at 0x7f473f4877f0>"
            ]
          },
          "metadata": {
            "tags": []
          },
          "execution_count": 9
        }
      ]
    },
    {
      "cell_type": "markdown",
      "metadata": {
        "id": "Vg-GBIJ5XRDZ",
        "colab_type": "text"
      },
      "source": [
        "# Optimizer"
      ]
    },
    {
      "cell_type": "code",
      "metadata": {
        "id": "CyDhwtc5XH81",
        "colab_type": "code",
        "colab": {}
      },
      "source": [
        "optimizer = tf.keras.optimizers.Adam(3e-4)"
      ],
      "execution_count": 0,
      "outputs": []
    },
    {
      "cell_type": "markdown",
      "metadata": {
        "id": "UEFapflIXjAC",
        "colab_type": "text"
      },
      "source": [
        "# Make one training step"
      ]
    },
    {
      "cell_type": "code",
      "metadata": {
        "id": "h4ODbyt5XngT",
        "colab_type": "code",
        "colab": {}
      },
      "source": [
        "# Notice the use of `tf.function`\n",
        "# This annotation causes the function to be \"compiled\".\n",
        "@tf.function\n",
        "def train_step(X, Y):\n",
        "\n",
        "    with tf.GradientTape() as tape:\n",
        "      y = y_model(X, training=True)\n",
        "      loss = tf.reduce_mean(tf.square(Y-y))\n",
        "\n",
        "    gradients = tape.gradient(loss, y_model.trainable_variables)\n",
        "    optimizer.apply_gradients(zip(gradients, y_model.trainable_variables))\n",
        "    return loss"
      ],
      "execution_count": 0,
      "outputs": []
    },
    {
      "cell_type": "code",
      "metadata": {
        "id": "hDxMl8TJYaNx",
        "colab_type": "code",
        "colab": {}
      },
      "source": [
        "def train(dataset, epochs):\n",
        "  for epoch in range(epochs):\n",
        "    start = time.time()\n",
        "\n",
        "    for X, Y in dataset:\n",
        "      loss = train_step(X, Y)\n",
        "    if (epoch+1) % 50 == 0:\n",
        "       print ('Epoch: {0:.1f}, loss: {1:.5f}'.format(epoch + 1, loss))\n",
        "  return None"
      ],
      "execution_count": 0,
      "outputs": []
    },
    {
      "cell_type": "code",
      "metadata": {
        "id": "zIvs-ydTYoYJ",
        "colab_type": "code",
        "outputId": "59e4b3c5-4659-440d-f67a-88a3b941e473",
        "colab": {
          "base_uri": "https://localhost:8080/",
          "height": 221
        }
      },
      "source": [
        "%%time\n",
        "train(train_dataset, 500)"
      ],
      "execution_count": 14,
      "outputs": [
        {
          "output_type": "stream",
          "text": [
            "Epoch: 50.0, loss: 0.02243\n",
            "Epoch: 100.0, loss: 0.01241\n",
            "Epoch: 150.0, loss: 0.00654\n",
            "Epoch: 200.0, loss: 0.01385\n",
            "Epoch: 250.0, loss: 0.00935\n",
            "Epoch: 300.0, loss: 0.00929\n",
            "Epoch: 350.0, loss: 0.02086\n",
            "Epoch: 400.0, loss: 0.00893\n",
            "Epoch: 450.0, loss: 0.01787\n",
            "Epoch: 500.0, loss: 0.01912\n",
            "CPU times: user 13 s, sys: 607 ms, total: 13.6 s\n",
            "Wall time: 12.1 s\n"
          ],
          "name": "stdout"
        }
      ]
    },
    {
      "cell_type": "markdown",
      "metadata": {
        "id": "HJ7tntkdZBy1",
        "colab_type": "text"
      },
      "source": [
        "# Make one test step"
      ]
    },
    {
      "cell_type": "code",
      "metadata": {
        "id": "kmQ-k9JoYrk4",
        "colab_type": "code",
        "colab": {}
      },
      "source": [
        "# Notice the use of `tf.function`\n",
        "# This annotation causes the function to be \"compiled\".\n",
        "@tf.function\n",
        "def test_step(X, Y):\n",
        "\n",
        "    with tf.GradientTape() as tape:\n",
        "      y = y_model(X, training=False)\n",
        "      loss = tf.reduce_mean(tf.square(Y-y))\n",
        "\n",
        "    gradients = tape.gradient(loss, y_model.trainable_variables)\n",
        "    optimizer.apply_gradients(zip(gradients, y_model.trainable_variables))\n",
        "    return loss, y"
      ],
      "execution_count": 0,
      "outputs": []
    },
    {
      "cell_type": "code",
      "metadata": {
        "id": "5vI7D3exZKEk",
        "colab_type": "code",
        "colab": {}
      },
      "source": [
        "def test(X, Y):\n",
        "  loss, y = test_step(X, Y)\n",
        "  print ('loss: {0:.5f}'.format(loss))\n",
        "  return y"
      ],
      "execution_count": 0,
      "outputs": []
    },
    {
      "cell_type": "code",
      "metadata": {
        "id": "uQinXhzsZdoq",
        "colab_type": "code",
        "outputId": "8563f51a-1b89-4f04-d960-487bfbdd0669",
        "colab": {
          "base_uri": "https://localhost:8080/",
          "height": 68
        }
      },
      "source": [
        "%%time\n",
        "Y_pred = test(X, Y)"
      ],
      "execution_count": 17,
      "outputs": [
        {
          "output_type": "stream",
          "text": [
            "loss: 0.01407\n",
            "CPU times: user 172 ms, sys: 2.63 ms, total: 175 ms\n",
            "Wall time: 184 ms\n"
          ],
          "name": "stdout"
        }
      ]
    },
    {
      "cell_type": "code",
      "metadata": {
        "id": "4EfyGevTaCyt",
        "colab_type": "code",
        "outputId": "e5977169-10db-4f81-d047-76af2ab3d370",
        "colab": {
          "base_uri": "https://localhost:8080/",
          "height": 285
        }
      },
      "source": [
        "plt.scatter(X, Y)\n",
        "plt.scatter(X, Y_pred)"
      ],
      "execution_count": 18,
      "outputs": [
        {
          "output_type": "execute_result",
          "data": {
            "text/plain": [
              "<matplotlib.collections.PathCollection at 0x7f47388f2278>"
            ]
          },
          "metadata": {
            "tags": []
          },
          "execution_count": 18
        },
        {
          "output_type": "display_data",
          "data": {
            "image/png": "[encoded data removed]",
            "text/plain": [
              "<Figure size 432x288 with 1 Axes>"
            ]
          },
          "metadata": {
            "tags": []
          }
        }
      ]
    },
    {
      "cell_type": "code",
      "metadata": {
        "id": "IiKEh5jHa8b6",
        "colab_type": "code",
        "outputId": "2e1a14e7-59d2-4bb5-ce03-a041abbf1f08",
        "colab": {
          "base_uri": "https://localhost:8080/",
          "height": 51
        }
      },
      "source": [
        "y_model.weights"
      ],
      "execution_count": 19,
      "outputs": [
        {
          "output_type": "execute_result",
          "data": {
            "text/plain": [
              "[<tf.Variable 'dense/kernel:0' shape=(1, 1) dtype=float32, numpy=array([[1.0438344]], dtype=float32)>,\n",
              " <tf.Variable 'dense/bias:0' shape=(1,) dtype=float32, numpy=array([0.11860753], dtype=float32)>]"
            ]
          },
          "metadata": {
            "tags": []
          },
          "execution_count": 19
        }
      ]
    }
  ]
}