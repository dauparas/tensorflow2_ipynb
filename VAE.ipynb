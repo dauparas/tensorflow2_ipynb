{
  "nbformat": 4,
  "nbformat_minor": 0,
  "metadata": {
    "colab": {
      "name": "VAE.ipynb",
      "provenance": [],
      "collapsed_sections": [],
      "include_colab_link": true
    },
    "kernelspec": {
      "name": "python3",
      "display_name": "Python 3"
    },
    "accelerator": "GPU"
  },
  "cells": [
    {
      "cell_type": "markdown",
      "metadata": {
        "id": "view-in-github",
        "colab_type": "text"
      },
      "source": [
        "<a href=\"https://colab.research.google.com/github/dauparas/tensorflow2_ipynb/blob/master/VAE.ipynb\" target=\"_parent\"><img src=\"https://colab.research.google.com/assets/colab-badge.svg\" alt=\"Open In Colab\"/></a>"
      ]
    },
    {
      "cell_type": "code",
      "metadata": {
        "colab_type": "code",
        "id": "kZ0MdF1j8WJf",
        "outputId": "1f8240a8-8241-4be8-bcac-1c0fc2cd014e",
        "colab": {
          "base_uri": "https://localhost:8080/",
          "height": 51
        }
      },
      "source": [
        "#@title Import { display-mode: \"form\" }\n",
        "\n",
        "from __future__ import absolute_import, division, print_function, unicode_literals\n",
        "\n",
        "# Install TensorFlow\n",
        "try:\n",
        "  # %tensorflow_version only exists in Colab.\n",
        "  %tensorflow_version 2.x\n",
        "except Exception:\n",
        "  pass\n",
        "\n",
        "import tensorflow as tf\n",
        "\n",
        "from __future__ import absolute_import\n",
        "from __future__ import division\n",
        "from __future__ import print_function\n",
        "\n",
        "import numpy as np\n",
        "\n",
        "import tensorflow as tf\n",
        "from tensorflow.python import tf2\n",
        "if not tf2.enabled():\n",
        "  import tensorflow.compat.v2 as tf\n",
        "  tf.enable_v2_behavior()\n",
        "  assert tf2.enabled()\n",
        "\n",
        "import tensorflow_datasets as tfds\n",
        "import tensorflow_probability as tfp\n",
        "\n",
        "\n",
        "tfk = tf.keras\n",
        "tfkl = tf.keras.layers\n",
        "tfpl = tfp.layers\n",
        "tfd = tfp.distributions\n",
        "from keras.layers import Input, Embedding, LSTM, Dense\n",
        "\n",
        "import pandas as pd\n",
        "from scipy.sparse import csr_matrix\n",
        "import umap\n",
        "from sklearn.metrics.cluster import adjusted_rand_score\n",
        "\n",
        "import h5py\n",
        "#Step 1: import dependencies\n",
        "import numpy as np\n",
        "import matplotlib.pyplot as plt\n",
        "import seaborn as sns\n",
        "import time\n",
        "from __future__ import division\n",
        "from sklearn.cluster import KMeans\n",
        "from sklearn.datasets import make_blobs\n",
        "import seaborn as sns; sns.set()\n",
        "import keras.backend as K\n",
        "\n",
        "import random\n",
        "\n",
        "%matplotlib inline\n",
        "plt.style.use('dark_background')"
      ],
      "execution_count": 1,
      "outputs": [
        {
          "output_type": "stream",
          "text": [
            "TensorFlow 2.x selected.\n"
          ],
          "name": "stdout"
        },
        {
          "output_type": "stream",
          "text": [
            "Using TensorFlow backend.\n"
          ],
          "name": "stderr"
        }
      ]
    },
    {
      "cell_type": "markdown",
      "metadata": {
        "colab_type": "text",
        "id": "N8Shtn_e99XC"
      },
      "source": [
        "### Load Dataset"
      ]
    },
    {
      "cell_type": "code",
      "metadata": {
        "id": "gFKn5FfePPoL",
        "colab_type": "code",
        "colab": {}
      },
      "source": [
        "seed = 0\n",
        "tf.random.set_seed(seed)\n",
        "random.seed(seed)\n",
        "np.random.seed(seed)"
      ],
      "execution_count": 0,
      "outputs": []
    },
    {
      "cell_type": "code",
      "metadata": {
        "id": "0Umh_a1tc248",
        "colab_type": "code",
        "colab": {}
      },
      "source": [
        "X, Y = make_blobs(n_samples=1000, n_features=200, centers=10, cluster_std=2.0)\n",
        "X = X.astype(np.float32)\n",
        "Y = Y"
      ],
      "execution_count": 0,
      "outputs": []
    },
    {
      "cell_type": "code",
      "metadata": {
        "id": "bgaQPrP5PgSC",
        "colab_type": "code",
        "outputId": "6e66e1ee-a457-433d-d99d-e5996d92bde5",
        "colab": {
          "base_uri": "https://localhost:8080/",
          "height": 34
        }
      },
      "source": [
        "print(X.shape, Y.shape)"
      ],
      "execution_count": 4,
      "outputs": [
        {
          "output_type": "stream",
          "text": [
            "(1000, 200) (1000,)\n"
          ],
          "name": "stdout"
        }
      ]
    },
    {
      "cell_type": "code",
      "metadata": {
        "id": "V4rhtOiBhBDF",
        "colab_type": "code",
        "outputId": "39fcaff0-16f1-4507-e6f4-6889eac61784",
        "colab": {
          "base_uri": "https://localhost:8080/",
          "height": 105
        }
      },
      "source": [
        "umap_emb = umap.UMAP(n_neighbors=10, min_dist=0.1, metric='euclidean', random_state=seed).fit_transform(X);"
      ],
      "execution_count": 5,
      "outputs": [
        {
          "output_type": "stream",
          "text": [
            "/usr/local/lib/python3.6/dist-packages/umap/spectral.py:229: UserWarning: Embedding a total of 10 separate connected components using meta-embedding (experimental)\n",
            "  n_components\n",
            "/usr/local/lib/python3.6/dist-packages/sklearn/manifold/spectral_embedding_.py:235: UserWarning: Graph is not fully connected, spectral embedding may not work as expected.\n",
            "  warnings.warn(\"Graph is not fully connected, spectral embedding\"\n"
          ],
          "name": "stderr"
        }
      ]
    },
    {
      "cell_type": "code",
      "metadata": {
        "id": "fzIOsWUFg16d",
        "colab_type": "code",
        "outputId": "367392f2-5880-40e6-a5a2-3a6b8acbdc0e",
        "colab": {
          "base_uri": "https://localhost:8080/",
          "height": 285
        }
      },
      "source": [
        "plt.scatter(umap_emb[:,0], umap_emb[:,1], c=Y, cmap='rainbow')"
      ],
      "execution_count": 6,
      "outputs": [
        {
          "output_type": "execute_result",
          "data": {
            "text/plain": [
              "<matplotlib.collections.PathCollection at 0x7f167ed28128>"
            ]
          },
          "metadata": {
            "tags": []
          },
          "execution_count": 6
        },
        {
          "output_type": "display_data",
          "data": {
            "image/png": "[encoded data removed]",
            "text/plain": [
              "<Figure size 432x288 with 1 Axes>"
            ]
          },
          "metadata": {
            "tags": []
          }
        }
      ]
    },
    {
      "cell_type": "code",
      "metadata": {
        "id": "jUAzuKyYJ3dt",
        "colab_type": "code",
        "colab": {}
      },
      "source": [
        "batch_size = 32\n",
        "train_dataset = (X)\n",
        "train_dataset = tf.data.Dataset.from_tensor_slices(train_dataset)\n",
        "train_dataset = train_dataset.shuffle(buffer_size=10000)\n",
        "train_dataset = train_dataset.batch(batch_size)"
      ],
      "execution_count": 0,
      "outputs": []
    },
    {
      "cell_type": "markdown",
      "metadata": {
        "colab_type": "text",
        "id": "MKgRI5eoS2rx"
      },
      "source": [
        "# Create model"
      ]
    },
    {
      "cell_type": "markdown",
      "metadata": {
        "id": "wlIBGWtpdcZ3",
        "colab_type": "text"
      },
      "source": [
        "# Set prior"
      ]
    },
    {
      "cell_type": "code",
      "metadata": {
        "colab_type": "code",
        "id": "rd3Voa64_Gtv",
        "colab": {}
      },
      "source": [
        "z_dim = 2\n",
        "prior = tfd.Independent(tfd.Normal(loc=tf.zeros(z_dim), scale=1),\n",
        "                        reinterpreted_batch_ndims=1)"
      ],
      "execution_count": 0,
      "outputs": []
    },
    {
      "cell_type": "code",
      "metadata": {
        "id": "nVlxMD83h8J3",
        "colab_type": "code",
        "colab": {}
      },
      "source": [
        "def make_x_given_z(input_shape, output_shape, act):\n",
        "    model = tfk.Sequential([\n",
        "    tfkl.InputLayer(input_shape=[input_shape]),\n",
        "    tfkl.Dense(512, activation=act),\n",
        "    tfkl.Dense(512, activation=act),\n",
        "    tfkl.Dense(512, activation=act),\n",
        "    tfkl.Dense(output_shape, activation=None),\n",
        "    ])\n",
        "    return model\n",
        "  \n",
        "def make_z_given_x(input_shape, output_shape, act):\n",
        "    model = tfk.Sequential([\n",
        "    tfkl.InputLayer(input_shape=[input_shape]),\n",
        "    tfkl.Dense(512, activation=act),\n",
        "    tfkl.Dense(512, activation=act),\n",
        "    tfkl.Dense(512, activation=act),\n",
        "    tfkl.Dense(2*output_shape),\n",
        "    ])\n",
        "    return model"
      ],
      "execution_count": 0,
      "outputs": []
    },
    {
      "cell_type": "code",
      "metadata": {
        "id": "FoLqPUhQmzEr",
        "colab_type": "code",
        "colab": {}
      },
      "source": [
        "z_given_x = make_z_given_x(X.shape[1], z_dim, tf.nn.leaky_relu)\n",
        "x_given_z = make_x_given_z(z_dim, X.shape[1], tf.nn.leaky_relu)"
      ],
      "execution_count": 0,
      "outputs": []
    },
    {
      "cell_type": "code",
      "metadata": {
        "id": "21HZiLsFokWj",
        "colab_type": "code",
        "colab": {}
      },
      "source": [
        "optimizer = tf.keras.optimizers.Adam(3e-4)"
      ],
      "execution_count": 0,
      "outputs": []
    },
    {
      "cell_type": "code",
      "metadata": {
        "id": "QhQKqhc9gVuf",
        "colab_type": "code",
        "colab": {}
      },
      "source": [
        "# Notice the use of `tf.function`\n",
        "# This annotation causes the function to be \"compiled\".\n",
        "@tf.function\n",
        "def test_step(X):\n",
        "\n",
        "    with tf.GradientTape() as tape:\n",
        "      z_mean_var = z_given_x(X, training=False)\n",
        "      z_mean = z_mean_var[:,0:z_dim]\n",
        "      z_log_var = z_mean_var[:,z_dim:]\n",
        "      z_given_x_distr = tfd.Independent(tfd.Normal(loc=z_mean, scale=tf.nn.softplus(z_log_var)),reinterpreted_batch_ndims=1)\n",
        "      z_sample = z_given_x_distr.sample()\n",
        "      \n",
        "      x = x_given_z(z_sample, training=False)      \n",
        "      \n",
        "      rec_loss = tf.reduce_mean(tf.square(X-x))\n",
        "      kl_loss = tf.reduce_mean(tfd.kl_divergence(z_given_x_distr, prior))\n",
        "                      \n",
        "      loss = rec_loss + 1e-3*kl_loss\n",
        "\n",
        "    gradients = tape.gradient(loss, z_given_x.trainable_variables + x_given_z.trainable_variables)\n",
        "\n",
        "    optimizer.apply_gradients(zip(gradients, z_given_x.trainable_variables + x_given_z.trainable_variables))\n",
        "    return rec_loss, kl_loss, loss, z_mean"
      ],
      "execution_count": 0,
      "outputs": []
    },
    {
      "cell_type": "code",
      "metadata": {
        "id": "DkRNNp0AgXzi",
        "colab_type": "code",
        "colab": {}
      },
      "source": [
        "def test(X, epoch):\n",
        "      rec_loss, kl_loss, loss, z_mean = test_step(X)\n",
        "      print ('epoch: {0:.1f}, rec_loss: {1:.3f}, kl_loss: {2:.3f}, loss: {3:.3f}'.format(epoch+1, rec_loss, kl_loss, loss))\n",
        "      plt.figure(1)\n",
        "      plt.figure(figsize=(6,4));\n",
        "      plt.scatter(z_mean[:,0], z_mean[:,1], c=Y, cmap='rainbow')\n",
        "      plt.title('Latent space representation')\n",
        "      plt.xlabel('z1')\n",
        "      plt.ylabel('z2')\n",
        "      plt.show()\n",
        "      return None"
      ],
      "execution_count": 0,
      "outputs": []
    },
    {
      "cell_type": "code",
      "metadata": {
        "id": "nuhOGRS-ovnq",
        "colab_type": "code",
        "colab": {}
      },
      "source": [
        "# Notice the use of `tf.function`\n",
        "# This annotation causes the function to be \"compiled\".\n",
        "@tf.function\n",
        "def train_step(X):\n",
        "\n",
        "    with tf.GradientTape() as tape:\n",
        "      z_mean_var = z_given_x(X, training=True)\n",
        "      z_mean = z_mean_var[:,0:z_dim]\n",
        "      z_log_var = z_mean_var[:,z_dim:]\n",
        "      z_given_x_distr = tfd.Independent(tfd.Normal(loc=z_mean, scale=tf.nn.softplus(z_log_var)),reinterpreted_batch_ndims=1)\n",
        "      z_sample = z_given_x_distr.sample()\n",
        "      \n",
        "      x = x_given_z(z_sample, training=True)      \n",
        "      \n",
        "      rec_loss = tf.reduce_mean(tf.square(X-x))\n",
        "      kl_loss = tf.reduce_mean(tfd.kl_divergence(z_given_x_distr, prior))\n",
        "                      \n",
        "      loss = rec_loss + 1e-3*kl_loss\n",
        "\n",
        "    gradients = tape.gradient(loss, z_given_x.trainable_variables + x_given_z.trainable_variables)\n",
        "\n",
        "    optimizer.apply_gradients(zip(gradients, z_given_x.trainable_variables + x_given_z.trainable_variables))\n",
        "    return rec_loss, kl_loss, loss"
      ],
      "execution_count": 0,
      "outputs": []
    },
    {
      "cell_type": "code",
      "metadata": {
        "id": "49v6kyb-cjrN",
        "colab_type": "code",
        "colab": {}
      },
      "source": [
        "def train(dataset, epochs):\n",
        "  for epoch in range(epochs):\n",
        "    start = time.time()\n",
        "\n",
        "    for X_batch in dataset:\n",
        "      rec_loss, kl_loss, loss = train_step(X_batch)\n",
        "    if ((epoch+1) % 50 == 0 or epoch==0):\n",
        "       test(X, epoch) #run test on the whole dataset and visualise latent space\n",
        "  return None"
      ],
      "execution_count": 0,
      "outputs": []
    },
    {
      "cell_type": "code",
      "metadata": {
        "id": "TVKy6XWPNop8",
        "colab_type": "code",
        "outputId": "1d60e78f-2707-45f8-b9cc-3b106c6012e5",
        "colab": {
          "base_uri": "https://localhost:8080/",
          "height": 1000
        }
      },
      "source": [
        "%%time\n",
        "train(train_dataset, 200)"
      ],
      "execution_count": 16,
      "outputs": [
        {
          "output_type": "stream",
          "text": [
            "epoch: 1.0, rec_loss: 23.438, kl_loss: 628.659, loss: 24.066\n"
          ],
          "name": "stdout"
        },
        {
          "output_type": "display_data",
          "data": {
            "text/plain": [
              "<Figure size 432x288 with 0 Axes>"
            ]
          },
          "metadata": {
            "tags": []
          }
        },
        {
          "output_type": "display_data",
          "data": {
            "image/png": "[encoded data removed]",
            "text/plain": [
              "<Figure size 432x288 with 1 Axes>"
            ]
          },
          "metadata": {
            "tags": []
          }
        },
        {
          "output_type": "stream",
          "text": [
            "epoch: 50.0, rec_loss: 4.001, kl_loss: 61.682, loss: 4.062\n"
          ],
          "name": "stdout"
        },
        {
          "output_type": "display_data",
          "data": {
            "text/plain": [
              "<Figure size 432x288 with 0 Axes>"
            ]
          },
          "metadata": {
            "tags": []
          }
        },
        {
          "output_type": "display_data",
          "data": {
            "image/png": "[encoded data removed]",
            "text/plain": [
              "<Figure size 432x288 with 1 Axes>"
            ]
          },
          "metadata": {
            "tags": []
          }
        },
        {
          "output_type": "stream",
          "text": [
            "epoch: 100.0, rec_loss: 3.966, kl_loss: 31.664, loss: 3.997\n"
          ],
          "name": "stdout"
        },
        {
          "output_type": "display_data",
          "data": {
            "text/plain": [
              "<Figure size 432x288 with 0 Axes>"
            ]
          },
          "metadata": {
            "tags": []
          }
        },
        {
          "output_type": "display_data",
          "data": {
            "image/png": "[encoded data removed]",
            "text/plain": [
              "<Figure size 432x288 with 1 Axes>"
            ]
          },
          "metadata": {
            "tags": []
          }
        },
        {
          "output_type": "stream",
          "text": [
            "epoch: 150.0, rec_loss: 3.944, kl_loss: 22.540, loss: 3.966\n"
          ],
          "name": "stdout"
        },
        {
          "output_type": "display_data",
          "data": {
            "text/plain": [
              "<Figure size 432x288 with 0 Axes>"
            ]
          },
          "metadata": {
            "tags": []
          }
        },
        {
          "output_type": "display_data",
          "data": {
            "image/png": "[encoded data removed]",
            "text/plain": [
              "<Figure size 432x288 with 1 Axes>"
            ]
          },
          "metadata": {
            "tags": []
          }
        },
        {
          "output_type": "stream",
          "text": [
            "epoch: 200.0, rec_loss: 3.930, kl_loss: 18.957, loss: 3.949\n"
          ],
          "name": "stdout"
        },
        {
          "output_type": "display_data",
          "data": {
            "text/plain": [
              "<Figure size 432x288 with 0 Axes>"
            ]
          },
          "metadata": {
            "tags": []
          }
        },
        {
          "output_type": "display_data",
          "data": {
            "image/png": "[encoded data removed]",
            "text/plain": [
              "<Figure size 432x288 with 1 Axes>"
            ]
          },
          "metadata": {
            "tags": []
          }
        },
        {
          "output_type": "stream",
          "text": [
            "CPU times: user 18 s, sys: 1.2 s, total: 19.2 s\n",
            "Wall time: 16.8 s\n"
          ],
          "name": "stdout"
        }
      ]
    }
  ]
}