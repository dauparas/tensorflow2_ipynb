{
  "nbformat": 4,
  "nbformat_minor": 0,
  "metadata": {
    "colab": {
      "name": "VAE_with_Gaussian_mixture_prior.ipynb",
      "provenance": [],
      "collapsed_sections": [],
      "include_colab_link": true
    },
    "kernelspec": {
      "name": "python3",
      "display_name": "Python 3"
    },
    "accelerator": "GPU"
  },
  "cells": [
    {
      "cell_type": "markdown",
      "metadata": {
        "id": "view-in-github",
        "colab_type": "text"
      },
      "source": [
        "<a href=\"https://colab.research.google.com/github/dauparas/tensorflow2_ipynb/blob/master/VAE_with_Gaussian_mixture_prior.ipynb\" target=\"_parent\"><img src=\"https://colab.research.google.com/assets/colab-badge.svg\" alt=\"Open In Colab\"/></a>"
      ]
    },
    {
      "cell_type": "code",
      "metadata": {
        "colab_type": "code",
        "id": "kZ0MdF1j8WJf",
        "outputId": "1f5349f8-9f1e-428c-821b-a07949a991c2",
        "colab": {
          "base_uri": "https://localhost:8080/",
          "height": 51
        }
      },
      "source": [
        "#@title Import { display-mode: \"form\" }\n",
        "\n",
        "from __future__ import absolute_import, division, print_function, unicode_literals\n",
        "\n",
        "# Install TensorFlow\n",
        "try:\n",
        "  # %tensorflow_version only exists in Colab.\n",
        "  %tensorflow_version 2.x\n",
        "except Exception:\n",
        "  pass\n",
        "\n",
        "import tensorflow as tf\n",
        "\n",
        "from __future__ import absolute_import\n",
        "from __future__ import division\n",
        "from __future__ import print_function\n",
        "\n",
        "import numpy as np\n",
        "\n",
        "import tensorflow as tf\n",
        "from tensorflow.python import tf2\n",
        "if not tf2.enabled():\n",
        "  import tensorflow.compat.v2 as tf\n",
        "  tf.enable_v2_behavior()\n",
        "  assert tf2.enabled()\n",
        "\n",
        "import tensorflow_datasets as tfds\n",
        "import tensorflow_probability as tfp\n",
        "\n",
        "\n",
        "tfk = tf.keras\n",
        "tfkl = tf.keras.layers\n",
        "tfpl = tfp.layers\n",
        "tfd = tfp.distributions\n",
        "from keras.layers import Input, Embedding, LSTM, Dense\n",
        "\n",
        "import pandas as pd\n",
        "from scipy.sparse import csr_matrix\n",
        "import umap\n",
        "from sklearn.metrics.cluster import adjusted_rand_score\n",
        "\n",
        "import h5py\n",
        "#Step 1: import dependencies\n",
        "import numpy as np\n",
        "import matplotlib.pyplot as plt\n",
        "import seaborn as sns\n",
        "import time\n",
        "from __future__ import division\n",
        "from sklearn.cluster import KMeans\n",
        "from sklearn.datasets import make_blobs\n",
        "import seaborn as sns; sns.set()\n",
        "import keras.backend as K\n",
        "\n",
        "import random\n",
        "\n",
        "%matplotlib inline\n",
        "plt.style.use('dark_background')"
      ],
      "execution_count": 1,
      "outputs": [
        {
          "output_type": "stream",
          "text": [
            "TensorFlow 2.x selected.\n"
          ],
          "name": "stdout"
        },
        {
          "output_type": "stream",
          "text": [
            "Using TensorFlow backend.\n"
          ],
          "name": "stderr"
        }
      ]
    },
    {
      "cell_type": "markdown",
      "metadata": {
        "colab_type": "text",
        "id": "N8Shtn_e99XC"
      },
      "source": [
        "### Load Dataset"
      ]
    },
    {
      "cell_type": "code",
      "metadata": {
        "id": "gFKn5FfePPoL",
        "colab_type": "code",
        "colab": {}
      },
      "source": [
        "seed = 0\n",
        "tf.random.set_seed(seed)\n",
        "random.seed(seed)\n",
        "np.random.seed(seed)"
      ],
      "execution_count": 0,
      "outputs": []
    },
    {
      "cell_type": "code",
      "metadata": {
        "id": "0Umh_a1tc248",
        "colab_type": "code",
        "colab": {}
      },
      "source": [
        "X, Y = make_blobs(n_samples=1000, n_features=200, centers=3, cluster_std=2.0)\n",
        "X = X.astype(np.float32)\n",
        "Y = Y"
      ],
      "execution_count": 0,
      "outputs": []
    },
    {
      "cell_type": "code",
      "metadata": {
        "id": "bgaQPrP5PgSC",
        "colab_type": "code",
        "outputId": "a216435a-232d-43c0-a301-701bd181514e",
        "colab": {
          "base_uri": "https://localhost:8080/",
          "height": 34
        }
      },
      "source": [
        "print(X.shape, Y.shape)"
      ],
      "execution_count": 4,
      "outputs": [
        {
          "output_type": "stream",
          "text": [
            "(1000, 200) (1000,)\n"
          ],
          "name": "stdout"
        }
      ]
    },
    {
      "cell_type": "code",
      "metadata": {
        "id": "V4rhtOiBhBDF",
        "colab_type": "code",
        "outputId": "84ebf76e-49dc-4195-9602-3e9f151a4ce0",
        "colab": {
          "base_uri": "https://localhost:8080/",
          "height": 71
        }
      },
      "source": [
        "umap_emb = umap.UMAP(n_neighbors=10, min_dist=0.1, metric='euclidean', random_state=seed).fit_transform(X);"
      ],
      "execution_count": 5,
      "outputs": [
        {
          "output_type": "stream",
          "text": [
            "/usr/local/lib/python3.6/dist-packages/umap/spectral.py:229: UserWarning: Embedding a total of 3 separate connected components using meta-embedding (experimental)\n",
            "  n_components\n"
          ],
          "name": "stderr"
        }
      ]
    },
    {
      "cell_type": "code",
      "metadata": {
        "id": "fzIOsWUFg16d",
        "colab_type": "code",
        "outputId": "f3b286b5-02ee-45fa-8637-f5feac29374f",
        "colab": {
          "base_uri": "https://localhost:8080/",
          "height": 286
        }
      },
      "source": [
        "plt.scatter(umap_emb[:,0], umap_emb[:,1], c=Y, cmap='rainbow')"
      ],
      "execution_count": 6,
      "outputs": [
        {
          "output_type": "execute_result",
          "data": {
            "text/plain": [
              "<matplotlib.collections.PathCollection at 0x7f43e9ca4be0>"
            ]
          },
          "metadata": {
            "tags": []
          },
          "execution_count": 6
        },
        {
          "output_type": "display_data",
          "data": {
            "image/png": "[encoded data removed]",
            "text/plain": [
              "<Figure size 432x288 with 1 Axes>"
            ]
          },
          "metadata": {
            "tags": []
          }
        }
      ]
    },
    {
      "cell_type": "code",
      "metadata": {
        "id": "jUAzuKyYJ3dt",
        "colab_type": "code",
        "colab": {}
      },
      "source": [
        "batch_size = 32\n",
        "train_dataset = (X)\n",
        "train_dataset = tf.data.Dataset.from_tensor_slices(train_dataset)\n",
        "train_dataset = train_dataset.shuffle(buffer_size=10000)\n",
        "train_dataset = train_dataset.batch(batch_size)"
      ],
      "execution_count": 0,
      "outputs": []
    },
    {
      "cell_type": "markdown",
      "metadata": {
        "colab_type": "text",
        "id": "MKgRI5eoS2rx"
      },
      "source": [
        "# Create model"
      ]
    },
    {
      "cell_type": "markdown",
      "metadata": {
        "id": "UrEwNnkSU2rn",
        "colab_type": "text"
      },
      "source": [
        "![alt text](https://drive.google.com/uc?id=12H05kEh2rsj-JiCkwPx782aF3ONyFxUp)"
      ]
    },
    {
      "cell_type": "markdown",
      "metadata": {
        "id": "wlIBGWtpdcZ3",
        "colab_type": "text"
      },
      "source": [
        "# Set prior"
      ]
    },
    {
      "cell_type": "code",
      "metadata": {
        "colab_type": "code",
        "id": "rd3Voa64_Gtv",
        "colab": {}
      },
      "source": [
        "c_dim = 3\n",
        "z_dim = 5\n",
        "prior = tfd.Categorical(probs=tf.nn.softmax(tf.ones(c_dim)))"
      ],
      "execution_count": 0,
      "outputs": []
    },
    {
      "cell_type": "code",
      "metadata": {
        "id": "nVlxMD83h8J3",
        "colab_type": "code",
        "colab": {}
      },
      "source": [
        "def make_c_given_x(input_shape, output_shape, act):\n",
        "    model = tfk.Sequential([\n",
        "    tfkl.InputLayer(input_shape=[input_shape]),\n",
        "    tfkl.Dense(128, activation=act),\n",
        "    tfkl.Dense(128, activation=act),\n",
        "    tfkl.Dense(128, activation=act),\n",
        "    tfkl.Dense(128, activation=act),\n",
        "    tfkl.Dense(output_shape, activation=None),\n",
        "    ])\n",
        "    return model\n",
        "\n",
        "def make_z_given_c_x(input_shape, output_shape, act):\n",
        "    model = tfk.Sequential([\n",
        "    tfkl.InputLayer(input_shape=[input_shape]),\n",
        "    tfkl.Dense(128, activation=act),\n",
        "    tfkl.Dense(128, activation=act),\n",
        "    tfkl.Dense(128, activation=act),\n",
        "    tfkl.Dense(128, activation=act),\n",
        "    tfkl.Dense(2*output_shape, activation=None),\n",
        "    ])\n",
        "    return model  \n",
        "  \n",
        "def make_z_given_c(input_shape, output_shape, act):\n",
        "    model = tfk.Sequential([\n",
        "    tfkl.InputLayer(input_shape=[input_shape]),\n",
        "    tfkl.Dense(128, activation=act),\n",
        "    tfkl.Dense(2*output_shape),\n",
        "    ])\n",
        "    return model  \n",
        "  \n",
        "def make_x_given_c_z(input_shape, output_shape, act):\n",
        "    model = tfk.Sequential([\n",
        "    tfkl.InputLayer(input_shape=[input_shape]),\n",
        "    tfkl.Dense(128, activation=act),\n",
        "    tfkl.Dense(128, activation=act),\n",
        "    tfkl.Dense(128, activation=act),\n",
        "    tfkl.Dense(128, activation=act),\n",
        "    tfkl.Dense(output_shape, activation=None),\n",
        "    ])\n",
        "    return model"
      ],
      "execution_count": 0,
      "outputs": []
    },
    {
      "cell_type": "code",
      "metadata": {
        "id": "FoLqPUhQmzEr",
        "colab_type": "code",
        "colab": {}
      },
      "source": [
        "c_given_x = make_c_given_x(X.shape[1], c_dim, tf.nn.leaky_relu)\n",
        "z_given_c_x = make_z_given_c_x(c_dim+X.shape[1], z_dim, tf.nn.leaky_relu)\n",
        "z_given_c = make_z_given_c(c_dim, z_dim, tf.nn.leaky_relu)\n",
        "x_given_c_z = make_x_given_c_z(c_dim+z_dim, X.shape[1], tf.nn.leaky_relu)"
      ],
      "execution_count": 0,
      "outputs": []
    },
    {
      "cell_type": "code",
      "metadata": {
        "id": "21HZiLsFokWj",
        "colab_type": "code",
        "colab": {}
      },
      "source": [
        "optimizer = tf.keras.optimizers.Adam(3e-4)"
      ],
      "execution_count": 0,
      "outputs": []
    },
    {
      "cell_type": "code",
      "metadata": {
        "id": "s1jMaklulE7i",
        "colab_type": "code",
        "colab": {}
      },
      "source": [
        "# Notice the use of `tf.function`\n",
        "# This annotation causes the function to be \"compiled\".\n",
        "@tf.function\n",
        "def train_step(X):\n",
        "\n",
        "    with tf.GradientTape() as tape:\n",
        "      \n",
        "      C1 = tf.one_hot(0*tf.ones(X.shape[0], tf.int32), c_dim, axis=-1)\n",
        "      C2 = tf.one_hot(1*tf.ones(X.shape[0], tf.int32), c_dim, axis=-1)\n",
        "      C3 = tf.one_hot(2*tf.ones(X.shape[0], tf.int32), c_dim, axis=-1)\n",
        "      \n",
        "      c_given_x_probs = tf.nn.softmax(c_given_x(X, training=True), axis=-1)\n",
        "      c_given_x_distr = tfd.Categorical(probs=c_given_x_probs)\n",
        "      \n",
        "      z_given_c_mean_var1 = z_given_c(C1, training=True)\n",
        "      z_given_c_mean1 = z_given_c_mean_var1[:,0:z_dim]\n",
        "      z_given_c_log_var1 = z_given_c_mean_var1[:,z_dim:]\n",
        "      z_given_c_distr1 = tfd.Independent(tfd.Normal(loc=z_given_c_mean1, scale=tf.nn.softplus(z_given_c_log_var1)),reinterpreted_batch_ndims=1)\n",
        "      \n",
        "      z_given_c_mean_var2 = z_given_c(C2, training=True)\n",
        "      z_given_c_mean2 = z_given_c_mean_var2[:,0:z_dim]\n",
        "      z_given_c_log_var2 = z_given_c_mean_var2[:,z_dim:]\n",
        "      z_given_c_distr2 = tfd.Independent(tfd.Normal(loc=z_given_c_mean2, scale=tf.nn.softplus(z_given_c_log_var2)),reinterpreted_batch_ndims=1)\n",
        "      \n",
        "      z_given_c_mean_var3 = z_given_c(C3, training=True)\n",
        "      z_given_c_mean3 = z_given_c_mean_var3[:,0:z_dim]\n",
        "      z_given_c_log_var3 = z_given_c_mean_var3[:,z_dim:]\n",
        "      z_given_c_distr3 = tfd.Independent(tfd.Normal(loc=z_given_c_mean3, scale=tf.nn.softplus(z_given_c_log_var3)),reinterpreted_batch_ndims=1)\n",
        "      \n",
        "      \n",
        "      z_given_c_x_mean_var1 = z_given_c_x(tf.concat((C1, X), axis=-1), training=True)\n",
        "      z_given_c_x_mean1 = z_given_c_x_mean_var1[:,0:z_dim]\n",
        "      z_given_c_x_log_var1 = z_given_c_x_mean_var1[:,z_dim:]\n",
        "      z_given_c_x_distr1 = tfd.Independent(tfd.Normal(loc=z_given_c_x_mean1, scale=tf.nn.softplus(z_given_c_x_log_var1)),reinterpreted_batch_ndims=1)\n",
        "      \n",
        "      z_given_c_x_mean_var2 = z_given_c_x(tf.concat((C2, X), axis=-1), training=True)\n",
        "      z_given_c_x_mean2 = z_given_c_x_mean_var2[:,0:z_dim]\n",
        "      z_given_c_x_log_var2 = z_given_c_x_mean_var2[:,z_dim:]\n",
        "      z_given_c_x_distr2 = tfd.Independent(tfd.Normal(loc=z_given_c_x_mean2, scale=tf.nn.softplus(z_given_c_x_log_var2)),reinterpreted_batch_ndims=1)\n",
        "      \n",
        "      z_given_c_x_mean_var3 = z_given_c_x(tf.concat((C3, X), axis=-1), training=True)\n",
        "      z_given_c_x_mean3 = z_given_c_x_mean_var3[:,0:z_dim]\n",
        "      z_given_c_x_log_var3 = z_given_c_x_mean_var3[:,z_dim:]\n",
        "      z_given_c_x_distr3 = tfd.Independent(tfd.Normal(loc=z_given_c_x_mean3, scale=tf.nn.softplus(z_given_c_x_log_var3)),reinterpreted_batch_ndims=1)\n",
        "      \n",
        "      kl_z_c1 = tfd.kl_divergence(z_given_c_x_distr1, z_given_c_distr1)\n",
        "      kl_z_c2 = tfd.kl_divergence(z_given_c_x_distr2, z_given_c_distr2)\n",
        "      kl_z_c3 = tfd.kl_divergence(z_given_c_x_distr3, z_given_c_distr3)\n",
        "      x1 = x_given_c_z(tf.concat((C1, z_given_c_x_distr1.sample()), axis=-1), training=True)  \n",
        "      x2 = x_given_c_z(tf.concat((C2, z_given_c_x_distr2.sample()), axis=-1), training=True) \n",
        "      x3 = x_given_c_z(tf.concat((C3, z_given_c_x_distr3.sample()), axis=-1), training=True)\n",
        "      rec1 = tf.reduce_mean(tf.square(X-x1), axis=-1)\n",
        "      rec2 = tf.reduce_mean(tf.square(X-x2), axis=-1)\n",
        "      rec3 = tf.reduce_mean(tf.square(X-x3), axis=-1)\n",
        "                       \n",
        "      kl_c = tf.reduce_mean(tfd.kl_divergence(c_given_x_distr, prior))\n",
        "      beta = 1.0\n",
        "      gamma = 1.0\n",
        "      loss = tf.reduce_mean(c_given_x_probs[:,0]*(rec1+beta*kl_z_c1)+c_given_x_probs[:,1]*(rec2+beta*kl_z_c2)+c_given_x_probs[:,2]*(rec3+beta*kl_z_c3))+gamma*kl_c\n",
        "     \n",
        "\n",
        "    gradients = tape.gradient(loss, c_given_x.trainable_variables + z_given_c_x.trainable_variables+z_given_c.trainable_variables+x_given_c_z.trainable_variables)\n",
        "\n",
        "    optimizer.apply_gradients(zip(gradients, c_given_x.trainable_variables + z_given_c_x.trainable_variables+z_given_c.trainable_variables+x_given_c_z.trainable_variables))\n",
        "    return loss"
      ],
      "execution_count": 0,
      "outputs": []
    },
    {
      "cell_type": "code",
      "metadata": {
        "id": "49v6kyb-cjrN",
        "colab_type": "code",
        "colab": {}
      },
      "source": [
        "def train(dataset, epochs):\n",
        "  for epoch in range(epochs):\n",
        "    start = time.time()\n",
        "\n",
        "    for X_batch in dataset:\n",
        "      loss = train_step(X_batch)\n",
        "    if ((epoch+1) % 20 == 0 or epoch==0):\n",
        "      print('Epoch: {0:.1f}, loss: {1:.5f}'.format(epoch+1, loss.numpy()))\n",
        "  return None"
      ],
      "execution_count": 0,
      "outputs": []
    },
    {
      "cell_type": "code",
      "metadata": {
        "id": "TVKy6XWPNop8",
        "colab_type": "code",
        "outputId": "be201cb9-f2c0-4bf5-fd13-bec56d552073",
        "colab": {
          "base_uri": "https://localhost:8080/",
          "height": 153
        }
      },
      "source": [
        "%%time\n",
        "train(train_dataset, 100)"
      ],
      "execution_count": 15,
      "outputs": [
        {
          "output_type": "stream",
          "text": [
            "Epoch: 1.0, loss: 38.26413\n",
            "Epoch: 20.0, loss: 5.03968\n",
            "Epoch: 40.0, loss: 5.29566\n",
            "Epoch: 60.0, loss: 5.18125\n",
            "Epoch: 80.0, loss: 5.07261\n",
            "Epoch: 100.0, loss: 5.25471\n",
            "CPU times: user 34.9 s, sys: 4.36 s, total: 39.2 s\n",
            "Wall time: 30.4 s\n"
          ],
          "name": "stdout"
        }
      ]
    },
    {
      "cell_type": "code",
      "metadata": {
        "id": "89kp_4a_vckf",
        "colab_type": "code",
        "colab": {}
      },
      "source": [
        "# Notice the use of `tf.function`\n",
        "# This annotation causes the function to be \"compiled\".\n",
        "@tf.function\n",
        "def test_step(X):\n",
        "      \n",
        "      C1 = tf.one_hot(0*tf.ones(X.shape[0], tf.int32), c_dim, axis=-1)\n",
        "      C2 = tf.one_hot(1*tf.ones(X.shape[0], tf.int32), c_dim, axis=-1)\n",
        "      C3 = tf.one_hot(2*tf.ones(X.shape[0], tf.int32), c_dim, axis=-1)\n",
        "      \n",
        "      c_given_x_probs = tf.nn.softmax(c_given_x(X, training=True), axis=-1)\n",
        "      c_given_x_distr = tfd.Categorical(probs=c_given_x_probs)\n",
        "      \n",
        "      z_given_c_mean_var1 = z_given_c(C1, training=True)\n",
        "      z_given_c_mean1 = z_given_c_mean_var1[:,0:z_dim]\n",
        "      z_given_c_log_var1 = z_given_c_mean_var1[:,z_dim:]\n",
        "      z_given_c_distr1 = tfd.Independent(tfd.Normal(loc=z_given_c_mean1, scale=tf.nn.softplus(z_given_c_log_var1)),reinterpreted_batch_ndims=1)\n",
        "      \n",
        "      z_given_c_mean_var2 = z_given_c(C2, training=True)\n",
        "      z_given_c_mean2 = z_given_c_mean_var2[:,0:z_dim]\n",
        "      z_given_c_log_var2 = z_given_c_mean_var2[:,z_dim:]\n",
        "      z_given_c_distr2 = tfd.Independent(tfd.Normal(loc=z_given_c_mean2, scale=tf.nn.softplus(z_given_c_log_var2)),reinterpreted_batch_ndims=1)\n",
        "      \n",
        "      z_given_c_mean_var3 = z_given_c(C3, training=True)\n",
        "      z_given_c_mean3 = z_given_c_mean_var3[:,0:z_dim]\n",
        "      z_given_c_log_var3 = z_given_c_mean_var3[:,z_dim:]\n",
        "      z_given_c_distr3 = tfd.Independent(tfd.Normal(loc=z_given_c_mean3, scale=tf.nn.softplus(z_given_c_log_var3)),reinterpreted_batch_ndims=1)\n",
        "      \n",
        "      \n",
        "      z_given_c_x_mean_var1 = z_given_c_x(tf.concat((C1, X), axis=-1), training=True)\n",
        "      z_given_c_x_mean1 = z_given_c_x_mean_var1[:,0:z_dim]\n",
        "      z_given_c_x_log_var1 = z_given_c_x_mean_var1[:,z_dim:]\n",
        "      z_given_c_x_distr1 = tfd.Independent(tfd.Normal(loc=z_given_c_x_mean1, scale=tf.nn.softplus(z_given_c_x_log_var1)),reinterpreted_batch_ndims=1)\n",
        "      \n",
        "      z_given_c_x_mean_var2 = z_given_c_x(tf.concat((C2, X), axis=-1), training=True)\n",
        "      z_given_c_x_mean2 = z_given_c_x_mean_var2[:,0:z_dim]\n",
        "      z_given_c_x_log_var2 = z_given_c_x_mean_var2[:,z_dim:]\n",
        "      z_given_c_x_distr2 = tfd.Independent(tfd.Normal(loc=z_given_c_x_mean2, scale=tf.nn.softplus(z_given_c_x_log_var2)),reinterpreted_batch_ndims=1)\n",
        "      \n",
        "      z_given_c_x_mean_var3 = z_given_c_x(tf.concat((C3, X), axis=-1), training=True)\n",
        "      z_given_c_x_mean3 = z_given_c_x_mean_var3[:,0:z_dim]\n",
        "      z_given_c_x_log_var3 = z_given_c_x_mean_var3[:,z_dim:]\n",
        "      z_given_c_x_distr3 = tfd.Independent(tfd.Normal(loc=z_given_c_x_mean3, scale=tf.nn.softplus(z_given_c_x_log_var3)),reinterpreted_batch_ndims=1)\n",
        "      \n",
        "      kl_z_c1 = tfd.kl_divergence(z_given_c_x_distr1, z_given_c_distr1)\n",
        "      kl_z_c2 = tfd.kl_divergence(z_given_c_x_distr2, z_given_c_distr2)\n",
        "      kl_z_c3 = tfd.kl_divergence(z_given_c_x_distr3, z_given_c_distr3)\n",
        "      x1 = x_given_c_z(tf.concat((C1, z_given_c_x_distr1.sample()), axis=-1), training=True)  \n",
        "      x2 = x_given_c_z(tf.concat((C2, z_given_c_x_distr2.sample()), axis=-1), training=True) \n",
        "      x3 = x_given_c_z(tf.concat((C3, z_given_c_x_distr3.sample()), axis=-1), training=True)\n",
        "      rec1 = tf.reduce_mean(tf.square(X-x1), axis=-1)\n",
        "      rec2 = tf.reduce_mean(tf.square(X-x2), axis=-1)\n",
        "      rec3 = tf.reduce_mean(tf.square(X-x3), axis=-1)\n",
        "                       \n",
        "      kl_c = tf.reduce_mean(tfd.kl_divergence(c_given_x_distr, prior))\n",
        "      beta = 1.0\n",
        "      gamma = 1.0\n",
        "      loss = tf.reduce_mean(c_given_x_probs[:,0]*(rec1+beta*kl_z_c1)+c_given_x_probs[:,1]*(rec2+beta*kl_z_c2)+c_given_x_probs[:,2]*(rec3+beta*kl_z_c3))+gamma*kl_c\n",
        "      \n",
        "      C = tf.one_hot(c_given_x_distr.sample(), c_dim, axis=-1)\n",
        "      z_given_c_x_mean_var = z_given_c_x(tf.concat((C, X), axis=-1), training=True)\n",
        "      z_given_c_x_mean = z_given_c_x_mean_var[:,0:z_dim]\n",
        "      z_given_c_x_log_var = z_given_c_x_mean_var[:,z_dim:]\n",
        "      z_given_c_x_distr = tfd.Independent(tfd.Normal(loc=z_given_c_x_mean, scale=tf.nn.softplus(z_given_c_x_log_var)),reinterpreted_batch_ndims=1)\n",
        "      \n",
        "      return loss, c_given_x_probs, z_given_c_x_distr.mean()"
      ],
      "execution_count": 0,
      "outputs": []
    },
    {
      "cell_type": "code",
      "metadata": {
        "id": "RQTpOfTau_ak",
        "colab_type": "code",
        "colab": {}
      },
      "source": [
        "loss, c_given_x_probs, z_mean = test_step(X)"
      ],
      "execution_count": 0,
      "outputs": []
    },
    {
      "cell_type": "code",
      "metadata": {
        "id": "BFsJoM5l9yMh",
        "colab_type": "code",
        "colab": {
          "base_uri": "https://localhost:8080/",
          "height": 153
        },
        "outputId": "a4e8c22d-21ac-447e-ece1-2318d9a60676"
      },
      "source": [
        "c_given_x_probs"
      ],
      "execution_count": 18,
      "outputs": [
        {
          "output_type": "execute_result",
          "data": {
            "text/plain": [
              "<tf.Tensor: id=12561, shape=(1000, 3), dtype=float32, numpy=\n",
              "array([[1.0000000e+00, 2.9054508e-09, 2.2069688e-08],\n",
              "       [4.8766777e-09, 7.3870776e-09, 1.0000000e+00],\n",
              "       [3.2487848e-09, 1.0942055e-08, 1.0000000e+00],\n",
              "       ...,\n",
              "       [8.6670576e-10, 1.0000000e+00, 2.7406291e-09],\n",
              "       [2.0746744e-09, 1.0000000e+00, 6.5477095e-09],\n",
              "       [1.0000000e+00, 5.6065375e-09, 1.8042773e-08]], dtype=float32)>"
            ]
          },
          "metadata": {
            "tags": []
          },
          "execution_count": 18
        }
      ]
    },
    {
      "cell_type": "code",
      "metadata": {
        "id": "bYF8DPTa1LSy",
        "colab_type": "code",
        "colab": {
          "base_uri": "https://localhost:8080/",
          "height": 286
        },
        "outputId": "6be73984-3d0d-499a-d777-882bb4ec6f86"
      },
      "source": [
        "plt.scatter(umap_emb[:,0], umap_emb[:,1], c=Y, cmap='rainbow')"
      ],
      "execution_count": 19,
      "outputs": [
        {
          "output_type": "execute_result",
          "data": {
            "text/plain": [
              "<matplotlib.collections.PathCollection at 0x7f438025b4a8>"
            ]
          },
          "metadata": {
            "tags": []
          },
          "execution_count": 19
        },
        {
          "output_type": "display_data",
          "data": {
            "image/png": "[encoded data removed]",
            "text/plain": [
              "<Figure size 432x288 with 1 Axes>"
            ]
          },
          "metadata": {
            "tags": []
          }
        }
      ]
    },
    {
      "cell_type": "code",
      "metadata": {
        "id": "Lmv2vSNp6Oiu",
        "colab_type": "code",
        "colab": {
          "base_uri": "https://localhost:8080/",
          "height": 285
        },
        "outputId": "261e3261-14ad-429f-a7e8-e2a1b0312cd4"
      },
      "source": [
        "plt.scatter(z_mean[:,0], z_mean[:,1], c=np.argmax(c_given_x_probs.numpy(), axis=-1), cmap='rainbow')"
      ],
      "execution_count": 20,
      "outputs": [
        {
          "output_type": "execute_result",
          "data": {
            "text/plain": [
              "<matplotlib.collections.PathCollection at 0x7f43801bcac8>"
            ]
          },
          "metadata": {
            "tags": []
          },
          "execution_count": 20
        },
        {
          "output_type": "display_data",
          "data": {
            "image/png": "[encoded data removed]",
            "text/plain": [
              "<Figure size 432x288 with 1 Axes>"
            ]
          },
          "metadata": {
            "tags": []
          }
        }
      ]
    },
    {
      "cell_type": "markdown",
      "metadata": {
        "id": "BSmT_Lg-_Lni",
        "colab_type": "text"
      },
      "source": [
        "1. Calculating expectation with respect to q(c|x) required c_dim runs of the neural network. \n",
        "2. How does one set the level of KL divergence loss for c?"
      ]
    }
  ]
}